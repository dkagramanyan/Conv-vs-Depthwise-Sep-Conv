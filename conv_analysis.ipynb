{
 "cells": [
  {
   "cell_type": "code",
   "execution_count": null,
   "outputs": [],
   "source": [
    "from tensorflow.python.keras import backend\n",
    "from tensorflow.python.keras.applications import imagenet_utils\n",
    "from tensorflow.python.keras.engine import training\n",
    "from tensorflow.python.keras.layers import VersionAwareLayers\n",
    "from tensorflow.keras import layers\n",
    "from tensorflow.python.keras.utils import data_utils\n",
    "from tensorflow.python.keras.utils import layer_utils\n",
    "from tensorflow.python.lib.io import file_io\n",
    "from tensorflow.python.util.tf_export import keras_export\n",
    "from tensorflow.keras import datasets\n",
    "from tensorflow.keras import optimizers"
   ],
   "metadata": {
    "collapsed": false,
    "pycharm": {
     "name": "#%%\n"
    }
   }
  },
  {
   "cell_type": "code",
   "execution_count": null,
   "outputs": [],
   "source": [
    "(x_train, y_train), (x_test, y_test) = datasets.cifar100.load_data()"
   ],
   "metadata": {
    "collapsed": false,
    "pycharm": {
     "name": "#%%\n"
    }
   }
  },
  {
   "cell_type": "code",
   "execution_count": null,
   "outputs": [],
   "source": [
    "def ResNet(stack_fn,\n",
    "           model_name='resnet',\n",
    "           input_shape=None,\n",
    "           classes=100,\n",
    "           classifier_activation='softmax'):\n",
    "    \"\"\"Instantiates the ResNet, ResNetV2, and ResNeXt architecture.\n",
    "    Args:\n",
    "      stack_fn: a function that returns output tensor for the\n",
    "        stacked residual blocks.\n",
    "      preact: whether to use pre-activation or not\n",
    "        (True for ResNetV2, False for ResNet and ResNeXt).\n",
    "      use_bias: whether to use biases for convolutional layers or not\n",
    "        (True for ResNet and ResNetV2, False for ResNeXt).\n",
    "      model_name: string, model name.\n",
    "      include_top: whether to include the fully-connected\n",
    "        layer at the top of the network.\n",
    "      weights: one of `None` (random initialization),\n",
    "        'imagenet' (pre-training on ImageNet),\n",
    "        or the path to the weights file to be loaded.\n",
    "      input_tensor: optional Keras tensor\n",
    "        (i.e. output of `layers.Input()`)\n",
    "        to use as image input for the model.\n",
    "      input_shape: optional shape tuple, only to be specified\n",
    "        if `include_top` is False (otherwise the input shape\n",
    "        has to be `(224, 224, 3)` (with `channels_last` data format)\n",
    "        or `(3, 224, 224)` (with `channels_first` data format).\n",
    "        It should have exactly 3 inputs channels.\n",
    "      pooling: optional pooling mode for feature extraction\n",
    "        when `include_top` is `False`.\n",
    "        - `None` means that the output of the model will be\n",
    "            the 4D tensor output of the\n",
    "            last convolutional layer.\n",
    "        - `avg` means that global average pooling\n",
    "            will be applied to the output of the\n",
    "            last convolutional layer, and thus\n",
    "            the output of the model will be a 2D tensor.\n",
    "        - `max` means that global max pooling will\n",
    "            be applied.\n",
    "      classes: optional number of classes to classify images\n",
    "        into, only to be specified if `include_top` is True, and\n",
    "        if no `weights` argument is specified.\n",
    "      classifier_activation: A `str` or callable. The activation function to use\n",
    "        on the \"top\" layer. Ignored unless `include_top=True`. Set\n",
    "        `classifier_activation=None` to return the logits of the \"top\" layer.\n",
    "        When loading pretrained weights, `classifier_activation` can only\n",
    "        be `None` or `\"softmax\"`.\n",
    "      **kwargs: For backwards compatibility only.\n",
    "    Returns:\n",
    "      A `keras.Model` instance.\n",
    "    \"\"\"\n",
    "    use_bias=True\n",
    "    include_top=True\n",
    "    weights=None\n",
    "\n",
    "    # Determine proper input shape\n",
    "    input_shape = imagenet_utils.obtain_input_shape(\n",
    "        input_shape,\n",
    "        default_size=224,\n",
    "        min_size=32,\n",
    "        data_format=backend.image_data_format(),\n",
    "        require_flatten=include_top,\n",
    "        weights=weights)\n",
    "\n",
    "    img_input = layers.Input(shape=input_shape)\n",
    "\n",
    "    bn_axis = 3 if backend.image_data_format() == 'channels_last' else 1\n",
    "\n",
    "    x = layers.ZeroPadding2D(\n",
    "        padding=((3, 3), (3, 3)), name='conv1_pad')(img_input)\n",
    "    x = layers.Conv2D(64, 7, strides=2, use_bias=use_bias, name='conv1_conv')(x)\n",
    "\n",
    "    x = layers.BatchNormalization(\n",
    "        axis=bn_axis, epsilon=1.001e-5, name='conv1_bn')(x)\n",
    "    x = layers.Activation('relu', name='conv1_relu')(x)\n",
    "\n",
    "    x = layers.ZeroPadding2D(padding=((1, 1), (1, 1)), name='pool1_pad')(x)\n",
    "    x = layers.MaxPooling2D(3, strides=2, name='pool1_pool')(x)\n",
    "\n",
    "    x = stack_fn(x)\n",
    "\n",
    "    x = layers.GlobalAveragePooling2D(name='avg_pool')(x)\n",
    "    imagenet_utils.validate_activation(classifier_activation, weights)\n",
    "    x = layers.Dense(classes, activation=classifier_activation,\n",
    "                     name='predictions')(x)\n",
    "\n",
    "    inputs = img_input\n",
    "\n",
    "    model = training.Model(inputs, x, name=model_name)\n",
    "\n",
    "    return model\n",
    "\n",
    "\n",
    "def block1(x, filters, kernel_size=3, stride=1, conv_shortcut=True, name=None):\n",
    "    \"\"\"A residual block.\n",
    "    Args:\n",
    "      x: input tensor.\n",
    "      filters: integer, filters of the bottleneck layer.\n",
    "      kernel_size: default 3, kernel size of the bottleneck layer.\n",
    "      stride: default 1, stride of the first layer.\n",
    "      conv_shortcut: default True, use convolution shortcut if True,\n",
    "          otherwise identity shortcut.\n",
    "      name: string, block label.\n",
    "    Returns:\n",
    "      Output tensor for the residual block.\n",
    "    \"\"\"\n",
    "    bn_axis = 3 if backend.image_data_format() == 'channels_last' else 1\n",
    "\n",
    "    if conv_shortcut:\n",
    "        shortcut = layers.Conv2D(\n",
    "            4 * filters, 1, strides=stride, name=name + '_0_conv')(x)\n",
    "        shortcut = layers.BatchNormalization(\n",
    "            axis=bn_axis, epsilon=1.001e-5, name=name + '_0_bn')(shortcut)\n",
    "    else:\n",
    "        shortcut = x\n",
    "\n",
    "    x = layers.Conv2D(filters, 1, strides=stride, name=name + '_1_conv')(x)\n",
    "    x = layers.BatchNormalization(\n",
    "        axis=bn_axis, epsilon=1.001e-5, name=name + '_1_bn')(x)\n",
    "    x = layers.Activation('relu', name=name + '_1_relu')(x)\n",
    "\n",
    "    x = layers.Conv2D(\n",
    "        filters, kernel_size, padding='SAME', name=name + '_2_conv')(x)\n",
    "    x = layers.BatchNormalization(\n",
    "        axis=bn_axis, epsilon=1.001e-5, name=name + '_2_bn')(x)\n",
    "    x = layers.Activation('relu', name=name + '_2_relu')(x)\n",
    "\n",
    "    x = layers.Conv2D(4 * filters, 1, name=name + '_3_conv')(x)\n",
    "    x = layers.BatchNormalization(\n",
    "        axis=bn_axis, epsilon=1.001e-5, name=name + '_3_bn')(x)\n",
    "\n",
    "    x = layers.Add(name=name + '_add')([shortcut, x])\n",
    "    x = layers.Activation('relu', name=name + '_out')(x)\n",
    "    return x\n",
    "\n",
    "\n",
    "def stack1(x, filters, blocks, stride1=2, name=None):\n",
    "    \"\"\"A set of stacked residual blocks.\n",
    "    Args:\n",
    "      x: input tensor.\n",
    "      filters: integer, filters of the bottleneck layer in a block.\n",
    "      blocks: integer, blocks in the stacked blocks.\n",
    "      stride1: default 2, stride of the first layer in the first block.\n",
    "      name: string, stack label.\n",
    "    Returns:\n",
    "      Output tensor for the stacked blocks.\n",
    "    \"\"\"\n",
    "    x = block1(x, filters, stride=stride1, name=name + '_block1')\n",
    "    for i in range(2, blocks + 1):\n",
    "        x = block1(x, filters, conv_shortcut=False, name=name + '_block' + str(i))\n",
    "    return x\n",
    "\n",
    "\n",
    "def ResNet50(input_shape):\n",
    "    \"\"\"Instantiates the ResNet50 architecture.\"\"\"\n",
    "\n",
    "    def stack_fn(x):\n",
    "        x = stack1(x, 64, 3, stride1=1, name='conv2')\n",
    "        x = stack1(x, 128, 4, name='conv3')\n",
    "        x = stack1(x, 256, 6, name='conv4')\n",
    "        return stack1(x, 512, 3, name='conv5')\n",
    "\n",
    "    return ResNet(stack_fn,'resnet50',input_shape=input_shape)\n",
    "\n",
    "\n",
    "def preprocess_input(x, data_format=None):\n",
    "    return imagenet_utils.preprocess_input(\n",
    "        x, data_format=data_format, mode='caffe')\n",
    "\n",
    "\n",
    "def decode_predictions(preds, top=5):\n",
    "    return imagenet_utils.decode_predictions(preds, top=top)\n"
   ],
   "metadata": {
    "collapsed": false,
    "pycharm": {
     "name": "#%%\n"
    }
   }
  },
  {
   "cell_type": "code",
   "source": [
    "model=ResNet50((32, 32, 3))\n",
    "model.summary()"
   ],
   "metadata": {
    "collapsed": false,
    "pycharm": {
     "name": "#%%\n"
    }
   },
   "execution_count": null,
   "outputs": []
  },
  {
   "cell_type": "code",
   "execution_count": null,
   "outputs": [],
   "source": [
    "optim=optimizers.RMSprop(centered=False,learning_rate=0.001)\n",
    "model.compile(optimizer=optim,metrics=['accuracy'],loss='sparse_categorical_crossentropy')"
   ],
   "metadata": {
    "collapsed": false,
    "pycharm": {
     "name": "#%%\n"
    }
   }
  },
  {
   "cell_type": "code",
   "execution_count": null,
   "outputs": [],
   "source": [
    "model.fit(x_train,y_train,batch_size=128,epochs=100,validation_split=0.2)"
   ],
   "metadata": {
    "collapsed": false,
    "pycharm": {
     "name": "#%%\n"
    }
   }
  }
 ],
 "metadata": {
  "kernelspec": {
   "display_name": "Python 3",
   "language": "python",
   "name": "python3"
  },
  "language_info": {
   "codemirror_mode": {
    "name": "ipython",
    "version": 2
   },
   "file_extension": ".py",
   "mimetype": "text/x-python",
   "name": "python",
   "nbconvert_exporter": "python",
   "pygments_lexer": "ipython2",
   "version": "2.7.6"
  }
 },
 "nbformat": 4,
 "nbformat_minor": 0
}